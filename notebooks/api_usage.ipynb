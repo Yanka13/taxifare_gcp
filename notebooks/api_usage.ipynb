{
 "cells": [
  {
   "cell_type": "markdown",
   "metadata": {},
   "source": [
    "# Testing our API locally"
   ]
  },
  {
   "cell_type": "markdown",
   "metadata": {},
   "source": [
    "## Connect to the root endpoint"
   ]
  },
  {
   "cell_type": "code",
   "execution_count": null,
   "metadata": {},
   "outputs": [
    {
     "name": "stdout",
     "output_type": "stream",
     "text": [
      "API call success\n"
     ]
    },
    {
     "data": {
      "text/plain": [
       "(200, 'no prediction', {'greeting': 'hello'})"
      ]
     },
     "execution_count": null,
     "metadata": {},
     "output_type": "execute_result"
    }
   ],
   "source": [
    "import requests\n",
    "\n",
    "url = \"http://localhost:8000/\"\n",
    "\n",
    "response = requests.get(url)\n",
    "\n",
    "if response.status_code == 200:\n",
    "    print(\"API call success\")\n",
    "else:\n",
    "    print(\"API call error\")\n",
    "\n",
    "response.status_code, response.json().get(\"fare\", \"no prediction\"), response.json()\n"
   ]
  },
  {
   "cell_type": "markdown",
   "metadata": {},
   "source": [
    "## Connect to the predict endpoint"
   ]
  },
  {
   "cell_type": "code",
   "execution_count": 10,
   "metadata": {},
   "outputs": [
    {
     "name": "stdout",
     "output_type": "stream",
     "text": [
      "API call success\n"
     ]
    },
    {
     "data": {
      "text/plain": [
       "(200, 'the prediction', {'fare': 'the prediction'})"
      ]
     },
     "execution_count": 10,
     "metadata": {},
     "output_type": "execute_result"
    }
   ],
   "source": [
    "import requests\n",
    "\n",
    "url = \"http://localhost:8000/predict\"\n",
    "\n",
    "params = dict(pickup_datetime=\"2020-12-12 12:12:12\",\n",
    "              pickup_longitude=\"41.123456\",\n",
    "              pickup_latitude=\"41.123456\",\n",
    "              dropoff_longitude=\"41.123456\",\n",
    "              dropoff_latitude=\"41.123456\",\n",
    "              passenger_count=\"3\")\n",
    "\n",
    "response = requests.get(url, params=params)\n",
    "\n",
    "if response.status_code == 200:\n",
    "    print(\"API call success\")\n",
    "else:\n",
    "    print(\"API call error\")\n",
    "\n",
    "response.status_code, response.json().get(\"fare\", \"no prediction\"), response.json()"
   ]
  },
  {
   "cell_type": "markdown",
   "metadata": {},
   "source": [
    "## Test our API in our container running locally"
   ]
  },
  {
   "cell_type": "code",
   "execution_count": 6,
   "metadata": {},
   "outputs": [
    {
     "name": "stdout",
     "output_type": "stream",
     "text": [
      "API call error\n"
     ]
    },
    {
     "data": {
      "text/plain": [
       "(422,\n",
       " 'no prediction',\n",
       " {'detail': [{'loc': ['query', 'pickup_longitude'],\n",
       "    'msg': 'field required',\n",
       "    'type': 'value_error.missing'},\n",
       "   {'loc': ['query', 'pickup_latitude'],\n",
       "    'msg': 'field required',\n",
       "    'type': 'value_error.missing'},\n",
       "   {'loc': ['query', 'dropoff_longitude'],\n",
       "    'msg': 'field required',\n",
       "    'type': 'value_error.missing'},\n",
       "   {'loc': ['query', 'dropoff_latitude'],\n",
       "    'msg': 'field required',\n",
       "    'type': 'value_error.missing'},\n",
       "   {'loc': ['query', 'passenger_count'],\n",
       "    'msg': 'field required',\n",
       "    'type': 'value_error.missing'}]})"
      ]
     },
     "execution_count": 6,
     "metadata": {},
     "output_type": "execute_result"
    }
   ],
   "source": [
    "import requests\n",
    "\n",
    "# see how nothing changes when contacting an API, whether it is within a container or not?\n",
    "url = \"http://localhost:8000/predict\"\n",
    "\n",
    "params = dict(pickup_datetime=\"2020-12-12 12:12:12\",\n",
    "              lon1=\"41.123456\",\n",
    "              lat1=\"41.123456\",\n",
    "              lon2=\"41.123456\",\n",
    "              lat2=\"41.123456\",\n",
    "              passcount=\"3\")\n",
    "\n",
    "\n",
    "response = requests.get(url, params=params)\n",
    "\n",
    "if response.status_code == 200:\n",
    "    print(\"API call success\")\n",
    "else:\n",
    "    print(\"API call error\")\n",
    "\n",
    "response.status_code, response.json().get(\"fare\", \"no prediction\"), response.json()\n"
   ]
  },
  {
   "cell_type": "markdown",
   "metadata": {},
   "source": [
    "# Testing our API in Cloud Run"
   ]
  },
  {
   "cell_type": "code",
   "execution_count": null,
   "metadata": {},
   "outputs": [
    {
     "name": "stdout",
     "output_type": "stream",
     "text": [
      "API call success\n"
     ]
    },
    {
     "data": {
      "text/plain": [
       "(200, 11.612805218531467, {'fare': 11.612805218531467})"
      ]
     },
     "execution_count": null,
     "metadata": {},
     "output_type": "execute_result"
    }
   ],
   "source": [
    "import requests\n",
    "\n",
    "# the only thing that changes is the URL allowing to contact the API 👌\n",
    "url = \"https://name-of-my-image-in-kebab-case-xi54eseqrq-ew.a.run.app/predict\"\n",
    "\n",
    "params = dict(pickup_datetime=\"2020-12-12 12:12:12 UTC\",\n",
    "              lon1=\"41.123456\",\n",
    "              lat1=\"41.123456\",\n",
    "              lon2=\"41.123456\",\n",
    "              lat2=\"41.123456\",\n",
    "              passcount=\"3\")\n",
    "\n",
    "\n",
    "response = requests.get(url, params=params)\n",
    "\n",
    "if response.status_code == 200:\n",
    "    print(\"API call success\")\n",
    "else:\n",
    "    print(\"API call error\")\n",
    "\n",
    "response.status_code, response.json().get(\"fare\", \"no prediction\"), response.json()\n"
   ]
  }
 ],
 "metadata": {
  "challengify": {
   "keep_output": true
  },
  "kernelspec": {
   "display_name": "Python 3",
   "language": "python",
   "name": "python3"
  },
  "language_info": {
   "codemirror_mode": {
    "name": "ipython",
    "version": 3
   },
   "file_extension": ".py",
   "mimetype": "text/x-python",
   "name": "python",
   "nbconvert_exporter": "python",
   "pygments_lexer": "ipython3",
   "version": "3.8.5"
  },
  "toc": {
   "base_numbering": 1,
   "nav_menu": {},
   "number_sections": true,
   "sideBar": true,
   "skip_h1_title": false,
   "title_cell": "Table of Contents",
   "title_sidebar": "Contents",
   "toc_cell": false,
   "toc_position": {},
   "toc_section_display": true,
   "toc_window_display": false
  },
  "varInspector": {
   "cols": {
    "lenName": 16,
    "lenType": 16,
    "lenVar": 40
   },
   "kernels_config": {
    "python": {
     "delete_cmd_postfix": "",
     "delete_cmd_prefix": "del ",
     "library": "var_list.py",
     "varRefreshCmd": "print(var_dic_list())"
    },
    "r": {
     "delete_cmd_postfix": ") ",
     "delete_cmd_prefix": "rm(",
     "library": "var_list.r",
     "varRefreshCmd": "cat(var_dic_list()) "
    }
   },
   "types_to_exclude": [
    "module",
    "function",
    "builtin_function_or_method",
    "instance",
    "_Feature"
   ],
   "window_display": false
  }
 },
 "nbformat": 4,
 "nbformat_minor": 4
}
