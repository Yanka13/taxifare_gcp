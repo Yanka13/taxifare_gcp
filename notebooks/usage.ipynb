{
 "cells": [
  {
   "cell_type": "markdown",
   "metadata": {},
   "source": [
    "# Autoreload"
   ]
  },
  {
   "cell_type": "code",
   "execution_count": 1,
   "metadata": {},
   "outputs": [],
   "source": [
    "%load_ext autoreload\n",
    "%autoreload 2"
   ]
  },
  {
   "cell_type": "markdown",
   "metadata": {},
   "source": [
    "# Trainer using our package"
   ]
  },
  {
   "cell_type": "code",
   "execution_count": 9,
   "metadata": {},
   "outputs": [
    {
     "name": "stderr",
     "output_type": "stream",
     "text": [
      "/Users/yannisbouhamou/.pyenv/versions/3.8.5/envs/lewagon/lib/python3.8/site-packages/ipykernel/ipkernel.py:287: DeprecationWarning: `should_run_async` will not call `transform_cell` automatically in the future. Please pass the result to `transformed_cell` argument and any exception that happen during thetransform in `preprocessing_exc_tuple` in IPython 7.17 and above.\n",
      "  and should_run_async(code)\n"
     ]
    },
    {
     "data": {
      "text/html": [
       "<div>\n",
       "<style scoped>\n",
       "    .dataframe tbody tr th:only-of-type {\n",
       "        vertical-align: middle;\n",
       "    }\n",
       "\n",
       "    .dataframe tbody tr th {\n",
       "        vertical-align: top;\n",
       "    }\n",
       "\n",
       "    .dataframe thead th {\n",
       "        text-align: right;\n",
       "    }\n",
       "</style>\n",
       "<table border=\"1\" class=\"dataframe\">\n",
       "  <thead>\n",
       "    <tr style=\"text-align: right;\">\n",
       "      <th></th>\n",
       "      <th>key</th>\n",
       "      <th>pickup_datetime</th>\n",
       "      <th>pickup_longitude</th>\n",
       "      <th>pickup_latitude</th>\n",
       "      <th>dropoff_longitude</th>\n",
       "      <th>dropoff_latitude</th>\n",
       "      <th>passenger_count</th>\n",
       "    </tr>\n",
       "  </thead>\n",
       "  <tbody>\n",
       "    <tr>\n",
       "      <th>47</th>\n",
       "      <td>2011-12-14 07:53:00.00000028</td>\n",
       "      <td>2011-12-14 07:53:00 UTC</td>\n",
       "      <td>-73.988877</td>\n",
       "      <td>40.763577</td>\n",
       "      <td>-73.985573</td>\n",
       "      <td>40.760262</td>\n",
       "      <td>1</td>\n",
       "    </tr>\n",
       "    <tr>\n",
       "      <th>9</th>\n",
       "      <td>2009-09-02 01:11:00.00000083</td>\n",
       "      <td>2009-09-02 01:11:00 UTC</td>\n",
       "      <td>-73.980658</td>\n",
       "      <td>40.733873</td>\n",
       "      <td>-73.991540</td>\n",
       "      <td>40.758138</td>\n",
       "      <td>2</td>\n",
       "    </tr>\n",
       "    <tr>\n",
       "      <th>56</th>\n",
       "      <td>2010-05-31 18:06:00.00000097</td>\n",
       "      <td>2010-05-31 18:06:00 UTC</td>\n",
       "      <td>-73.985427</td>\n",
       "      <td>40.758853</td>\n",
       "      <td>-73.872907</td>\n",
       "      <td>40.774497</td>\n",
       "      <td>1</td>\n",
       "    </tr>\n",
       "    <tr>\n",
       "      <th>91</th>\n",
       "      <td>2011-02-22 11:09:16.0000004</td>\n",
       "      <td>2011-02-22 11:09:16 UTC</td>\n",
       "      <td>-73.968881</td>\n",
       "      <td>40.764533</td>\n",
       "      <td>-73.985311</td>\n",
       "      <td>40.748956</td>\n",
       "      <td>1</td>\n",
       "    </tr>\n",
       "    <tr>\n",
       "      <th>34</th>\n",
       "      <td>2011-09-07 23:05:44.0000001</td>\n",
       "      <td>2011-09-07 23:05:44 UTC</td>\n",
       "      <td>-73.993717</td>\n",
       "      <td>40.740785</td>\n",
       "      <td>-73.999272</td>\n",
       "      <td>40.676617</td>\n",
       "      <td>1</td>\n",
       "    </tr>\n",
       "    <tr>\n",
       "      <th>...</th>\n",
       "      <td>...</td>\n",
       "      <td>...</td>\n",
       "      <td>...</td>\n",
       "      <td>...</td>\n",
       "      <td>...</td>\n",
       "      <td>...</td>\n",
       "      <td>...</td>\n",
       "    </tr>\n",
       "    <tr>\n",
       "      <th>99</th>\n",
       "      <td>2011-06-09 00:53:00.00000066</td>\n",
       "      <td>2011-06-09 00:53:00 UTC</td>\n",
       "      <td>-73.983052</td>\n",
       "      <td>40.722588</td>\n",
       "      <td>-73.988022</td>\n",
       "      <td>40.733738</td>\n",
       "      <td>3</td>\n",
       "    </tr>\n",
       "    <tr>\n",
       "      <th>36</th>\n",
       "      <td>2015-03-12 08:08:38.0000001</td>\n",
       "      <td>2015-03-12 08:08:38 UTC</td>\n",
       "      <td>-73.990173</td>\n",
       "      <td>40.756447</td>\n",
       "      <td>-73.985619</td>\n",
       "      <td>40.762829</td>\n",
       "      <td>1</td>\n",
       "    </tr>\n",
       "    <tr>\n",
       "      <th>82</th>\n",
       "      <td>2013-06-14 08:27:43.0000001</td>\n",
       "      <td>2013-06-14 08:27:43 UTC</td>\n",
       "      <td>-73.953710</td>\n",
       "      <td>40.790813</td>\n",
       "      <td>-73.957015</td>\n",
       "      <td>40.777676</td>\n",
       "      <td>1</td>\n",
       "    </tr>\n",
       "    <tr>\n",
       "      <th>94</th>\n",
       "      <td>2013-01-09 14:42:00.000000194</td>\n",
       "      <td>2013-01-09 14:42:00 UTC</td>\n",
       "      <td>-73.946852</td>\n",
       "      <td>40.775802</td>\n",
       "      <td>-73.964340</td>\n",
       "      <td>40.760703</td>\n",
       "      <td>1</td>\n",
       "    </tr>\n",
       "    <tr>\n",
       "      <th>90</th>\n",
       "      <td>2010-04-27 21:40:07.0000004</td>\n",
       "      <td>2010-04-27 21:40:07 UTC</td>\n",
       "      <td>-74.001135</td>\n",
       "      <td>40.730979</td>\n",
       "      <td>-73.984424</td>\n",
       "      <td>40.764630</td>\n",
       "      <td>1</td>\n",
       "    </tr>\n",
       "  </tbody>\n",
       "</table>\n",
       "<p>75 rows × 7 columns</p>\n",
       "</div>"
      ],
      "text/plain": [
       "                              key          pickup_datetime  pickup_longitude  \\\n",
       "47   2011-12-14 07:53:00.00000028  2011-12-14 07:53:00 UTC        -73.988877   \n",
       "9    2009-09-02 01:11:00.00000083  2009-09-02 01:11:00 UTC        -73.980658   \n",
       "56   2010-05-31 18:06:00.00000097  2010-05-31 18:06:00 UTC        -73.985427   \n",
       "91    2011-02-22 11:09:16.0000004  2011-02-22 11:09:16 UTC        -73.968881   \n",
       "34    2011-09-07 23:05:44.0000001  2011-09-07 23:05:44 UTC        -73.993717   \n",
       "..                            ...                      ...               ...   \n",
       "99   2011-06-09 00:53:00.00000066  2011-06-09 00:53:00 UTC        -73.983052   \n",
       "36    2015-03-12 08:08:38.0000001  2015-03-12 08:08:38 UTC        -73.990173   \n",
       "82    2013-06-14 08:27:43.0000001  2013-06-14 08:27:43 UTC        -73.953710   \n",
       "94  2013-01-09 14:42:00.000000194  2013-01-09 14:42:00 UTC        -73.946852   \n",
       "90    2010-04-27 21:40:07.0000004  2010-04-27 21:40:07 UTC        -74.001135   \n",
       "\n",
       "    pickup_latitude  dropoff_longitude  dropoff_latitude  passenger_count  \n",
       "47        40.763577         -73.985573         40.760262                1  \n",
       "9         40.733873         -73.991540         40.758138                2  \n",
       "56        40.758853         -73.872907         40.774497                1  \n",
       "91        40.764533         -73.985311         40.748956                1  \n",
       "34        40.740785         -73.999272         40.676617                1  \n",
       "..              ...                ...               ...              ...  \n",
       "99        40.722588         -73.988022         40.733738                3  \n",
       "36        40.756447         -73.985619         40.762829                1  \n",
       "82        40.790813         -73.957015         40.777676                1  \n",
       "94        40.775802         -73.964340         40.760703                1  \n",
       "90        40.730979         -73.984424         40.764630                1  \n",
       "\n",
       "[75 rows x 7 columns]"
      ]
     },
     "execution_count": 9,
     "metadata": {},
     "output_type": "execute_result"
    }
   ],
   "source": [
    "from taxifare.data import * \n",
    "\n",
    "df = get_data_using_pandas(100)\n",
    "df = clean_df(df)\n",
    "X_train, X_test, y_train, y_test = holdout(df)\n",
    "X_train"
   ]
  },
  {
   "cell_type": "code",
   "execution_count": 2,
   "metadata": {},
   "outputs": [
    {
     "name": "stdout",
     "output_type": "stream",
     "text": [
      "Training start.... \n",
      "Training with 1000 rows in our dataset\n",
      "rmse on test set is 7.990702010299428\n"
     ]
    },
    {
     "data": {
      "text/plain": [
       "Pipeline(steps=[('features',\n",
       "                 ColumnTransformer(transformers=[('distance',\n",
       "                                                  Pipeline(steps=[('distancetransformer',\n",
       "                                                                   DistanceTransformer()),\n",
       "                                                                  ('standardscaler',\n",
       "                                                                   StandardScaler())]),\n",
       "                                                  ['pickup_latitude',\n",
       "                                                   'pickup_longitude',\n",
       "                                                   'dropoff_latitude',\n",
       "                                                   'dropoff_longitude'])])),\n",
       "                ('model', RandomForestRegressor(max_depth=1))])"
      ]
     },
     "execution_count": 2,
     "metadata": {},
     "output_type": "execute_result"
    }
   ],
   "source": [
    "from taxifare.trainer import Trainer\n",
    "trainer = Trainer()\n",
    "fitted_pipeline = trainer.train(1000)\n",
    "fitted_pipeline"
   ]
  },
  {
   "cell_type": "code",
   "execution_count": 4,
   "metadata": {},
   "outputs": [
    {
     "data": {
      "text/plain": [
       "<function sklearn.pipeline.Pipeline.score(self, X, y=None, sample_weight=None)>"
      ]
     },
     "execution_count": 4,
     "metadata": {},
     "output_type": "execute_result"
    }
   ],
   "source": [
    "fitted_pipeline.score"
   ]
  },
  {
   "cell_type": "code",
   "execution_count": 104,
   "metadata": {},
   "outputs": [
    {
     "name": "stdout",
     "output_type": "stream",
     "text": [
      "README.md         boilerplate.ipynb usage.ipynb\r\n"
     ]
    }
   ],
   "source": [
    "!ls "
   ]
  },
  {
   "cell_type": "code",
   "execution_count": 105,
   "metadata": {},
   "outputs": [
    {
     "data": {
      "text/plain": [
       "{'memory': None,\n",
       " 'steps': [('features',\n",
       "   ColumnTransformer(transformers=[('distance',\n",
       "                                    Pipeline(steps=[('distancetransformer',\n",
       "                                                     DistanceTransformer()),\n",
       "                                                    ('standardscaler',\n",
       "                                                     StandardScaler())]),\n",
       "                                    ['pickup_latitude', 'pickup_longitude',\n",
       "                                     'dropoff_latitude', 'dropoff_longitude'])])),\n",
       "  ('model', RandomForestRegressor(max_depth=1))],\n",
       " 'verbose': False,\n",
       " 'features': ColumnTransformer(transformers=[('distance',\n",
       "                                  Pipeline(steps=[('distancetransformer',\n",
       "                                                   DistanceTransformer()),\n",
       "                                                  ('standardscaler',\n",
       "                                                   StandardScaler())]),\n",
       "                                  ['pickup_latitude', 'pickup_longitude',\n",
       "                                   'dropoff_latitude', 'dropoff_longitude'])]),\n",
       " 'model': RandomForestRegressor(max_depth=1),\n",
       " 'features__n_jobs': None,\n",
       " 'features__remainder': 'drop',\n",
       " 'features__sparse_threshold': 0.3,\n",
       " 'features__transformer_weights': None,\n",
       " 'features__transformers': [('distance',\n",
       "   Pipeline(steps=[('distancetransformer', DistanceTransformer()),\n",
       "                   ('standardscaler', StandardScaler())]),\n",
       "   ['pickup_latitude',\n",
       "    'pickup_longitude',\n",
       "    'dropoff_latitude',\n",
       "    'dropoff_longitude'])],\n",
       " 'features__verbose': False,\n",
       " 'features__distance': Pipeline(steps=[('distancetransformer', DistanceTransformer()),\n",
       "                 ('standardscaler', StandardScaler())]),\n",
       " 'features__distance__memory': None,\n",
       " 'features__distance__steps': [('distancetransformer', DistanceTransformer()),\n",
       "  ('standardscaler', StandardScaler())],\n",
       " 'features__distance__verbose': False,\n",
       " 'features__distance__distancetransformer': DistanceTransformer(),\n",
       " 'features__distance__standardscaler': StandardScaler(),\n",
       " 'features__distance__distancetransformer__distance_type': 'euclidian',\n",
       " 'features__distance__standardscaler__copy': True,\n",
       " 'features__distance__standardscaler__with_mean': True,\n",
       " 'features__distance__standardscaler__with_std': True,\n",
       " 'model__bootstrap': True,\n",
       " 'model__ccp_alpha': 0.0,\n",
       " 'model__criterion': 'mse',\n",
       " 'model__max_depth': 1,\n",
       " 'model__max_features': 'auto',\n",
       " 'model__max_leaf_nodes': None,\n",
       " 'model__max_samples': None,\n",
       " 'model__min_impurity_decrease': 0.0,\n",
       " 'model__min_impurity_split': None,\n",
       " 'model__min_samples_leaf': 1,\n",
       " 'model__min_samples_split': 2,\n",
       " 'model__min_weight_fraction_leaf': 0.0,\n",
       " 'model__n_estimators': 100,\n",
       " 'model__n_jobs': None,\n",
       " 'model__oob_score': False,\n",
       " 'model__random_state': None,\n",
       " 'model__verbose': 0,\n",
       " 'model__warm_start': False}"
      ]
     },
     "execution_count": 105,
     "metadata": {},
     "output_type": "execute_result"
    }
   ],
   "source": [
    "fitted_pipeline.get_params()"
   ]
  },
  {
   "cell_type": "markdown",
   "metadata": {},
   "source": [
    "# Trainer with params and gridsearch"
   ]
  },
  {
   "cell_type": "code",
   "execution_count": null,
   "metadata": {},
   "outputs": [
    {
     "name": "stdout",
     "output_type": "stream",
     "text": [
      "random_forest {'line_count': 1000, 'hyper_params': {'features__distance__distancetransformer__distance_type': ['euclidian', 'manhattan'], 'features__distance__standardscaler__with_mean': [True, False], 'model__max_depth': [1, 2, 3]}}\n"
     ]
    }
   ],
   "source": [
    "params = dict(\n",
    "    random_forest = dict(\n",
    "        line_count = 1000,\n",
    "        hyper_params = dict(\n",
    "            features__distance__distancetransformer__distance_type = [\"euclidian\", \"manhattan\"],\n",
    "            features__distance__standardscaler__with_mean = [True, False],\n",
    "            model__max_depth = [1, 2, 3]\n",
    "        )\n",
    "    ),\n",
    "    linear_regression = dict(\n",
    "        line_count = 1000,\n",
    "        hyper_params = dict(\n",
    "            features__distance__distancetransformer__distance_type = [\"euclidian\", \"manhattan\"],\n",
    "            features__distance__standardscaler__with_mean = [True, False],\n",
    "            model__normalize = [True, False]\n",
    "        )\n",
    "    )\n",
    ")\n",
    "\n",
    "from taxifare.paramtrainer import ParamTrainer\n",
    "param_trainer = ParamTrainer()\n",
    "models = param_trainer.train(params)\n",
    "models"
   ]
  },
  {
   "cell_type": "code",
   "execution_count": null,
   "metadata": {},
   "outputs": [],
   "source": [
    "! ls -la ../saved_models/*.joblib"
   ]
  },
  {
   "cell_type": "code",
   "execution_count": null,
   "metadata": {},
   "outputs": [],
   "source": [
    "models[\"random_forest\"].__dict__.keys()"
   ]
  },
  {
   "cell_type": "code",
   "execution_count": null,
   "metadata": {},
   "outputs": [],
   "source": [
    "models[\"random_forest\"].best_score_"
   ]
  },
  {
   "cell_type": "code",
   "execution_count": null,
   "metadata": {},
   "outputs": [],
   "source": [
    "models[\"random_forest\"].best_params_"
   ]
  },
  {
   "cell_type": "code",
   "execution_count": null,
   "metadata": {},
   "outputs": [],
   "source": [
    "models[\"random_forest\"].best_estimator_"
   ]
  },
  {
   "cell_type": "code",
   "execution_count": null,
   "metadata": {},
   "outputs": [],
   "source": [
    "models[\"linear_regression\"].best_score_"
   ]
  },
  {
   "cell_type": "code",
   "execution_count": null,
   "metadata": {},
   "outputs": [],
   "source": [
    "models[\"linear_regression\"].best_params_"
   ]
  },
  {
   "cell_type": "code",
   "execution_count": null,
   "metadata": {},
   "outputs": [],
   "source": [
    "models[\"linear_regression\"].best_estimator_"
   ]
  },
  {
   "cell_type": "code",
   "execution_count": null,
   "metadata": {},
   "outputs": [],
   "source": []
  },
  {
   "cell_type": "code",
   "execution_count": null,
   "metadata": {},
   "outputs": [],
   "source": []
  }
 ],
 "metadata": {
  "challengify": {
   "keep_output": true
  },
  "kernelspec": {
   "display_name": "Python 3",
   "language": "python",
   "name": "python3"
  },
  "toc": {
   "base_numbering": 1,
   "nav_menu": {},
   "number_sections": true,
   "sideBar": true,
   "skip_h1_title": false,
   "title_cell": "Table of Contents",
   "title_sidebar": "Contents",
   "toc_cell": false,
   "toc_position": {},
   "toc_section_display": true,
   "toc_window_display": false
  },
  "varInspector": {
   "cols": {
    "lenName": 16,
    "lenType": 16,
    "lenVar": 40
   },
   "kernels_config": {
    "python": {
     "delete_cmd_postfix": "",
     "delete_cmd_prefix": "del ",
     "library": "var_list.py",
     "varRefreshCmd": "print(var_dic_list())"
    },
    "r": {
     "delete_cmd_postfix": ") ",
     "delete_cmd_prefix": "rm(",
     "library": "var_list.r",
     "varRefreshCmd": "cat(var_dic_list()) "
    }
   },
   "types_to_exclude": [
    "module",
    "function",
    "builtin_function_or_method",
    "instance",
    "_Feature"
   ],
   "window_display": false
  }
 },
 "nbformat": 4,
 "nbformat_minor": 4
}
